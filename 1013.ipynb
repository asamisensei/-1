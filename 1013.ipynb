{
  "nbformat": 4,
  "nbformat_minor": 0,
  "metadata": {
    "colab": {
      "provenance": [],
      "toc_visible": true,
      "authorship_tag": "ABX9TyMsURLnIBp/D2Im4bM417nn",
      "include_colab_link": true
    },
    "kernelspec": {
      "name": "python3",
      "display_name": "Python 3"
    },
    "language_info": {
      "name": "python"
    }
  },
  "cells": [
    {
      "cell_type": "markdown",
      "metadata": {
        "id": "view-in-github",
        "colab_type": "text"
      },
      "source": [
        "<a href=\"https://colab.research.google.com/github/asamisensei/-1/blob/main/1013.ipynb\" target=\"_parent\"><img src=\"https://colab.research.google.com/assets/colab-badge.svg\" alt=\"Open In Colab\"/></a>"
      ]
    },
    {
      "cell_type": "markdown",
      "source": [
        "**・プログラムって何だろう？**\n",
        "<br>\n",
        "　　機械と人の違い。\n",
        "<br>\n",
        "　　アルゴリズムとは？\n",
        "<br>\n",
        "**・プログラムで出来ること**"
      ],
      "metadata": {
        "id": "xt0-7vluzadf"
      }
    },
    {
      "cell_type": "code",
      "source": [
        "import io\n",
        "import requests\n",
        "import PIL.Image\n",
        "\n",
        "response = requests.get(\"https://assets.st-note.com/production/uploads/images/87904984/rectangle_large_type_2_7656b09279e35371080b4f3f48819f69.png?width=400\")\n",
        "PIL.Image.open(io.BytesIO(response.content))"
      ],
      "metadata": {
        "id": "wjJRQmYIwwKl"
      },
      "execution_count": null,
      "outputs": []
    },
    {
      "cell_type": "code",
      "execution_count": null,
      "metadata": {
        "id": "i6jiZ0XNv0py"
      },
      "outputs": [],
      "source": [
        "import matplotlib.pyplot as plt\n",
        "\n",
        "x_values = ['Group1', 'Group2', 'Group3', 'Group4', 'Group5']\n",
        "y_values = [80, 90, 100, 40, 60]\n",
        "\n",
        "plt.bar(x_values, y_values)\n",
        "plt.xlabel('name')\n",
        "plt.ylabel('Score')\n",
        "plt.plot()\n",
        "plt.show()\n"
      ]
    },
    {
      "cell_type": "markdown",
      "source": [
        "**・やってみよう**\n",
        "<pre>\n",
        "実際にプログラムを書いて、動かしてみよう。\n",
        "  ・演算子\n",
        "      算術演算子\n",
        "        +\n",
        "        -\n",
        "        *\n",
        "        /\n",
        "        %\n",
        "      比較演算子\n",
        "        ==\n",
        "        !=\n",
        "        <\n",
        "        >\n",
        "        <=\n",
        "        >=     \n",
        "</pre>"
      ],
      "metadata": {
        "id": "7qtcIdakz7SM"
      }
    },
    {
      "cell_type": "code",
      "source": [
        "#算術演算子を試しましょう"
      ],
      "metadata": {
        "id": "7AGPZOYR4pnL"
      },
      "execution_count": 23,
      "outputs": []
    },
    {
      "cell_type": "code",
      "source": [
        "#比較演算子を試しましょう"
      ],
      "metadata": {
        "id": "dQyBz1HJ9s-H"
      },
      "execution_count": null,
      "outputs": []
    },
    {
      "cell_type": "markdown",
      "source": [
        "**・文字列の扱い方**\n",
        "シングルコーテーション、もしくはダブルコーテーションで囲いましょう\n",
        "\n",
        "\n",
        "```\n",
        "# print('HelloWorld')\n",
        "```\n",
        "\n"
      ],
      "metadata": {
        "id": "j3s99D-J8_Xm"
      }
    },
    {
      "cell_type": "code",
      "source": [
        "print()"
      ],
      "metadata": {
        "id": "wZ7m_crB8_DN"
      },
      "execution_count": null,
      "outputs": []
    },
    {
      "cell_type": "markdown",
      "source": [
        "**プログラムの基本構造**\n",
        "<pre>\n",
        "  ・順次構造\n",
        "      上から下へ記述された順に実行\n",
        "  ・選択構造\n",
        "      条件が真の場合は処理1,偽の時は処理2へ分岐\n",
        "  ・反復構造\n",
        "      処理を繰り返す\n",
        "</pre>"
      ],
      "metadata": {
        "id": "rnNfWNDu25KR"
      }
    }
  ]
}